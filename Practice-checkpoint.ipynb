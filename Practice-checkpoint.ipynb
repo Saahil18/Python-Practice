{
 "cells": [
  {
   "cell_type": "code",
   "execution_count": 11,
   "id": "stylish-console",
   "metadata": {},
   "outputs": [
    {
     "data": {
      "text/plain": [
       "'MAPS6FOECI66LS'"
      ]
     },
     "execution_count": 11,
     "metadata": {},
     "output_type": "execute_result"
    }
   ],
   "source": [
    "aa='SL66ICEOF6SPAM'\n",
    "aa[::-1]"
   ]
  },
  {
   "cell_type": "code",
   "execution_count": 17,
   "id": "linear-concentrate",
   "metadata": {},
   "outputs": [
    {
     "name": "stdout",
     "output_type": "stream",
     "text": [
      "39\n"
     ]
    }
   ],
   "source": [
    "x = 'hello'\n",
    "x = x + ' there ' + ' '\n",
    "print(len(x*3))"
   ]
  },
  {
   "cell_type": "code",
   "execution_count": 10,
   "id": "smart-enough",
   "metadata": {},
   "outputs": [
    {
     "name": "stdout",
     "output_type": "stream",
     "text": [
      "I am a string And me too! And me too!\n",
      "though I am much longer\n",
      "than the others :)\n"
     ]
    }
   ],
   "source": [
    "s = 'I am a string'\n",
    "s = s + \" And me too!\" + ' And me too!\\nthough I am much longer\\nthan the others :)'\n",
    "print(s)"
   ]
  },
  {
   "cell_type": "code",
   "execution_count": 4,
   "id": "urban-harrison",
   "metadata": {},
   "outputs": [
    {
     "name": "stdout",
     "output_type": "stream",
     "text": [
      "My name is saahil khanna\n",
      "college\tKIIT\n",
      "Bhubaneswar\n"
     ]
    }
   ],
   "source": [
    "k=\"My name is saahil khanna\\ncollege\\tKIIT\\nBhubaneswar\"\n",
    "print(k)"
   ]
  },
  {
   "cell_type": "code",
   "execution_count": 9,
   "id": "6e9f8910",
   "metadata": {},
   "outputs": [
    {
     "name": "stdout",
     "output_type": "stream",
     "text": [
      "hello friends how are you\n"
     ]
    }
   ],
   "source": [
    "m='hellofriendshowareyou'\n",
    "len(m)\n",
    "print(m[0:5] +' '+ m[5:12] +' '+ m[12:15] +' '+ m[15:18] +' '+ m[18:21])\n"
   ]
  },
  {
   "cell_type": "code",
   "execution_count": 16,
   "id": "6279006e",
   "metadata": {},
   "outputs": [
    {
     "name": "stdout",
     "output_type": "stream",
     "text": [
      "uoyerawohsdneirfolleh\n"
     ]
    }
   ],
   "source": [
    "m='hellofriendshowareyou'\n",
    "n=m[::-1]\n",
    "print(n)"
   ]
  }
 ],
 "metadata": {
  "kernelspec": {
   "display_name": "Python 3",
   "language": "python",
   "name": "python3"
  },
  "language_info": {
   "codemirror_mode": {
    "name": "ipython",
    "version": 3
   },
   "file_extension": ".py",
   "mimetype": "text/x-python",
   "name": "python",
   "nbconvert_exporter": "python",
   "pygments_lexer": "ipython3",
   "version": "3.8.10"
  }
 },
 "nbformat": 4,
 "nbformat_minor": 5
}
