{
 "cells": [
  {
   "cell_type": "markdown",
   "id": "50c28073",
   "metadata": {},
   "source": [
    "# Check Leap Year"
   ]
  },
  {
   "cell_type": "code",
   "execution_count": 1,
   "id": "805164ce",
   "metadata": {},
   "outputs": [
    {
     "name": "stdout",
     "output_type": "stream",
     "text": [
      "Enter the year :2017\n",
      "2017 is not a leap year\n"
     ]
    }
   ],
   "source": [
    "n=int(input(\"Enter the year :\"))\n",
    "if(n % 4 == 0):\n",
    "    if(n % 100 == 0):\n",
    "        if(n % 400 == 0):\n",
    "            print(\"{0} is a leap year\".format(n))\n",
    "        else:\n",
    "            print(\"{0} is not a leap year\".format(n))\n",
    "    else:\n",
    "        print(\"{0} is not a leap year\".format(n))\n",
    "else:\n",
    "    print(\"{0} is not a leap year\".format(n))"
   ]
  },
  {
   "cell_type": "code",
   "execution_count": 2,
   "id": "72c70b08",
   "metadata": {},
   "outputs": [
    {
     "name": "stdout",
     "output_type": "stream",
     "text": [
      "Enter the year :2000\n",
      "2000 is a leap year\n"
     ]
    }
   ],
   "source": [
    "n=int(input(\"Enter the year :\"))\n",
    "if(n % 4 == 0):\n",
    "    if(n % 100 == 0):\n",
    "        if(n % 400 == 0):\n",
    "            print(\"{0} is a leap year\".format(n))\n",
    "        else:\n",
    "            print(\"{0} is not a leap year\".format(n))\n",
    "    else:\n",
    "        print(\"{0} is not a leap year\".format(n))\n",
    "else:\n",
    "    print(\"{0} is not a leap year\".format(n))"
   ]
  },
  {
   "cell_type": "code",
   "execution_count": null,
   "id": "14c22dec",
   "metadata": {},
   "outputs": [],
   "source": []
  }
 ],
 "metadata": {
  "kernelspec": {
   "display_name": "Python 3",
   "language": "python",
   "name": "python3"
  },
  "language_info": {
   "codemirror_mode": {
    "name": "ipython",
    "version": 3
   },
   "file_extension": ".py",
   "mimetype": "text/x-python",
   "name": "python",
   "nbconvert_exporter": "python",
   "pygments_lexer": "ipython3",
   "version": "3.8.10"
  }
 },
 "nbformat": 4,
 "nbformat_minor": 5
}
