{
 "cells": [
  {
   "cell_type": "markdown",
   "id": "56456749",
   "metadata": {},
   "source": [
    "# Check if a Number is Odd or Even"
   ]
  },
  {
   "cell_type": "code",
   "execution_count": 2,
   "id": "3e91a6f5",
   "metadata": {},
   "outputs": [
    {
     "name": "stdout",
     "output_type": "stream",
     "text": [
      "Enter the nunber :56\n",
      "Even\n"
     ]
    }
   ],
   "source": [
    "n=int(input(\"Enter the nunber :\"))\n",
    "if(n%2==0):\n",
    "    print(\"Even\")\n",
    "else:\n",
    "    print(\"Odd\")"
   ]
  },
  {
   "cell_type": "code",
   "execution_count": 3,
   "id": "b47b9988",
   "metadata": {},
   "outputs": [
    {
     "name": "stdout",
     "output_type": "stream",
     "text": [
      "Enter the nunber :-98\n",
      "Even\n"
     ]
    }
   ],
   "source": [
    "n=int(input(\"Enter the nunber :\"))\n",
    "if(n%2==0):\n",
    "    print(\"Even\")\n",
    "else:\n",
    "    print(\"Odd\")"
   ]
  },
  {
   "cell_type": "code",
   "execution_count": 4,
   "id": "00a81062",
   "metadata": {},
   "outputs": [
    {
     "name": "stdout",
     "output_type": "stream",
     "text": [
      "Enter the nunber :-9\n",
      "Odd\n"
     ]
    }
   ],
   "source": [
    "n=int(input(\"Enter the nunber :\"))\n",
    "if(n%2==0):\n",
    "    print(\"Even\")\n",
    "else:\n",
    "    print(\"Odd\")"
   ]
  },
  {
   "cell_type": "code",
   "execution_count": null,
   "id": "454b21be",
   "metadata": {},
   "outputs": [],
   "source": []
  }
 ],
 "metadata": {
  "kernelspec": {
   "display_name": "Python 3",
   "language": "python",
   "name": "python3"
  },
  "language_info": {
   "codemirror_mode": {
    "name": "ipython",
    "version": 3
   },
   "file_extension": ".py",
   "mimetype": "text/x-python",
   "name": "python",
   "nbconvert_exporter": "python",
   "pygments_lexer": "ipython3",
   "version": "3.8.10"
  }
 },
 "nbformat": 4,
 "nbformat_minor": 5
}
