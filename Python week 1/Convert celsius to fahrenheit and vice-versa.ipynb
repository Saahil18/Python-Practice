{
 "cells": [
  {
   "cell_type": "markdown",
   "id": "561c13ee",
   "metadata": {},
   "source": [
    "# Convert celsius to fahrenheit and vice-versa"
   ]
  },
  {
   "cell_type": "code",
   "execution_count": 1,
   "id": "29f050d9",
   "metadata": {},
   "outputs": [
    {
     "name": "stdout",
     "output_type": "stream",
     "text": [
      "45\n",
      "45.00 celcius = 113.00 fahrenheit\n"
     ]
    }
   ],
   "source": [
    "c= float(input())\n",
    "f=((c*(9/5))+32)\n",
    "print(\"%0.2f celcius = %0.2f fahrenheit\" %(c,f))"
   ]
  },
  {
   "cell_type": "code",
   "execution_count": 2,
   "id": "ba111cd1",
   "metadata": {},
   "outputs": [
    {
     "name": "stdout",
     "output_type": "stream",
     "text": [
      "-98\n",
      "-98.00 fahrenheit = -72.22 celcius\n"
     ]
    }
   ],
   "source": [
    "f= float(input())\n",
    "c=(f - 32) * (5/9)\n",
    "print(\"%0.2f fahrenheit = %0.2f celcius\" %(f,c))"
   ]
  },
  {
   "cell_type": "code",
   "execution_count": null,
   "id": "571fecdb",
   "metadata": {},
   "outputs": [],
   "source": []
  }
 ],
 "metadata": {
  "kernelspec": {
   "display_name": "Python 3",
   "language": "python",
   "name": "python3"
  },
  "language_info": {
   "codemirror_mode": {
    "name": "ipython",
    "version": 3
   },
   "file_extension": ".py",
   "mimetype": "text/x-python",
   "name": "python",
   "nbconvert_exporter": "python",
   "pygments_lexer": "ipython3",
   "version": "3.8.10"
  }
 },
 "nbformat": 4,
 "nbformat_minor": 5
}
