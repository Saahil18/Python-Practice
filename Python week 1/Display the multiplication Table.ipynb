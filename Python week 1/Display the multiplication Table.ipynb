{
 "cells": [
  {
   "cell_type": "markdown",
   "id": "48a2f3b5",
   "metadata": {},
   "source": [
    "# Display the multiplication Table"
   ]
  },
  {
   "cell_type": "code",
   "execution_count": 1,
   "id": "9b5f698f",
   "metadata": {},
   "outputs": [
    {
     "name": "stdout",
     "output_type": "stream",
     "text": [
      "Display multiplication table of? 9\n",
      "9 x 1 = 9\n",
      "9 x 2 = 18\n",
      "9 x 3 = 27\n",
      "9 x 4 = 36\n",
      "9 x 5 = 45\n",
      "9 x 6 = 54\n",
      "9 x 7 = 63\n",
      "9 x 8 = 72\n",
      "9 x 9 = 81\n",
      "9 x 10 = 90\n"
     ]
    }
   ],
   "source": [
    "num = int(input(\"Display multiplication table of? \"))\n",
    "for i in range(1, 11):\n",
    "   print(num, 'x', i, '=', num*i)"
   ]
  },
  {
   "cell_type": "code",
   "execution_count": 2,
   "id": "a1dc174d",
   "metadata": {},
   "outputs": [
    {
     "name": "stdout",
     "output_type": "stream",
     "text": [
      "Display multiplication table of? 89\n",
      "89 x 1 = 89\n",
      "89 x 2 = 178\n",
      "89 x 3 = 267\n",
      "89 x 4 = 356\n",
      "89 x 5 = 445\n",
      "89 x 6 = 534\n",
      "89 x 7 = 623\n",
      "89 x 8 = 712\n",
      "89 x 9 = 801\n",
      "89 x 10 = 890\n"
     ]
    }
   ],
   "source": [
    "num = int(input(\"Display multiplication table of? \"))\n",
    "for i in range(1, 11):\n",
    "   print(num, 'x', i, '=', num*i)"
   ]
  },
  {
   "cell_type": "code",
   "execution_count": null,
   "id": "ec64c9b6",
   "metadata": {},
   "outputs": [],
   "source": []
  }
 ],
 "metadata": {
  "kernelspec": {
   "display_name": "Python 3",
   "language": "python",
   "name": "python3"
  },
  "language_info": {
   "codemirror_mode": {
    "name": "ipython",
    "version": 3
   },
   "file_extension": ".py",
   "mimetype": "text/x-python",
   "name": "python",
   "nbconvert_exporter": "python",
   "pygments_lexer": "ipython3",
   "version": "3.8.10"
  }
 },
 "nbformat": 4,
 "nbformat_minor": 5
}
