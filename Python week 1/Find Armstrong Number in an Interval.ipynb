{
 "cells": [
  {
   "cell_type": "markdown",
   "id": "ea40ce29",
   "metadata": {},
   "source": [
    "# Find Armstrong Number in an Interval"
   ]
  },
  {
   "cell_type": "code",
   "execution_count": 6,
   "id": "ef2a33eb",
   "metadata": {},
   "outputs": [
    {
     "name": "stdout",
     "output_type": "stream",
     "text": [
      "121\n",
      "190\n",
      "153\n"
     ]
    }
   ],
   "source": [
    "a=int(input())\n",
    "b=int(input())\n",
    "for i in range(a,b+1):\n",
    "    sum=0\n",
    "    z=i\n",
    "    while z > 0:\n",
    "        k = z % 10\n",
    "        sum += k**3\n",
    "        z //= 10\n",
    "    if (i==sum):\n",
    "        print(sum)\n",
    "\n"
   ]
  },
  {
   "cell_type": "code",
   "execution_count": 7,
   "id": "62206079",
   "metadata": {},
   "outputs": [
    {
     "name": "stdout",
     "output_type": "stream",
     "text": [
      "100\n",
      "250\n",
      "153\n"
     ]
    }
   ],
   "source": [
    "a=int(input())\n",
    "b=int(input())\n",
    "for i in range(a,b+1):\n",
    "    sum=0\n",
    "    z=i\n",
    "    while z > 0:\n",
    "        k = z % 10\n",
    "        sum += k**3\n",
    "        z //= 10\n",
    "    if (i==sum):\n",
    "        print(sum)"
   ]
  },
  {
   "cell_type": "code",
   "execution_count": null,
   "id": "c9fadd7b",
   "metadata": {},
   "outputs": [],
   "source": []
  }
 ],
 "metadata": {
  "kernelspec": {
   "display_name": "Python 3",
   "language": "python",
   "name": "python3"
  },
  "language_info": {
   "codemirror_mode": {
    "name": "ipython",
    "version": 3
   },
   "file_extension": ".py",
   "mimetype": "text/x-python",
   "name": "python",
   "nbconvert_exporter": "python",
   "pygments_lexer": "ipython3",
   "version": "3.8.10"
  }
 },
 "nbformat": 4,
 "nbformat_minor": 5
}
