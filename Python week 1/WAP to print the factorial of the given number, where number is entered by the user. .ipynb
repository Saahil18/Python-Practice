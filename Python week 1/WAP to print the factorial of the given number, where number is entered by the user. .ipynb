{
 "cells": [
  {
   "cell_type": "markdown",
   "id": "701f01f0",
   "metadata": {},
   "source": [
    "# WAP to print the factorial of the given number, where number is entered by the user. "
   ]
  },
  {
   "cell_type": "code",
   "execution_count": 2,
   "id": "8938ccc0",
   "metadata": {},
   "outputs": [
    {
     "name": "stdout",
     "output_type": "stream",
     "text": [
      "Enter the number5\n",
      "120\n"
     ]
    }
   ],
   "source": [
    "num = int(input(\"Enter the number\"))\n",
    "sum=1\n",
    "for i in range(1, num+1):\n",
    "       sum = sum * i\n",
    "print(sum)"
   ]
  },
  {
   "cell_type": "code",
   "execution_count": null,
   "id": "bd4da26c",
   "metadata": {},
   "outputs": [],
   "source": []
  }
 ],
 "metadata": {
  "kernelspec": {
   "display_name": "Python 3",
   "language": "python",
   "name": "python3"
  },
  "language_info": {
   "codemirror_mode": {
    "name": "ipython",
    "version": 3
   },
   "file_extension": ".py",
   "mimetype": "text/x-python",
   "name": "python",
   "nbconvert_exporter": "python",
   "pygments_lexer": "ipython3",
   "version": "3.8.10"
  }
 },
 "nbformat": 4,
 "nbformat_minor": 5
}
