{
 "cells": [
  {
   "cell_type": "markdown",
   "id": "22e3bece",
   "metadata": {},
   "source": [
    "# KM to miles and vice-versa"
   ]
  },
  {
   "cell_type": "code",
   "execution_count": 1,
   "id": "24f274b1",
   "metadata": {},
   "outputs": [
    {
     "name": "stdout",
     "output_type": "stream",
     "text": [
      "45\n",
      "45.00 km = 27.96 miles\n"
     ]
    }
   ],
   "source": [
    "k= float(input())\n",
    "c = 0.621371\n",
    "m = k * c \n",
    "print(\"%0.2f km = %0.2f miles\" %(k,m))\n"
   ]
  },
  {
   "cell_type": "code",
   "execution_count": 2,
   "id": "f9b509f8",
   "metadata": {},
   "outputs": [
    {
     "name": "stdout",
     "output_type": "stream",
     "text": [
      "45\n",
      "45.00 miles = 72.42 km\n"
     ]
    }
   ],
   "source": [
    "m= float(input())\n",
    "c = 1.60934\n",
    "k = m * c \n",
    "print(\"%0.2f miles = %0.2f km\" %(m,k))"
   ]
  },
  {
   "cell_type": "code",
   "execution_count": null,
   "id": "43598f5e",
   "metadata": {},
   "outputs": [],
   "source": []
  }
 ],
 "metadata": {
  "kernelspec": {
   "display_name": "Python 3",
   "language": "python",
   "name": "python3"
  },
  "language_info": {
   "codemirror_mode": {
    "name": "ipython",
    "version": 3
   },
   "file_extension": ".py",
   "mimetype": "text/x-python",
   "name": "python",
   "nbconvert_exporter": "python",
   "pygments_lexer": "ipython3",
   "version": "3.8.10"
  }
 },
 "nbformat": 4,
 "nbformat_minor": 5
}
