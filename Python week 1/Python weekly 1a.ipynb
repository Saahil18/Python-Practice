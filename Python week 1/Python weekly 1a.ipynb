{
 "cells": [
  {
   "cell_type": "markdown",
   "metadata": {},
   "source": [
    "## KM to miles and vice-versa"
   ]
  },
  {
   "cell_type": "code",
   "execution_count": 9,
   "metadata": {},
   "outputs": [
    {
     "name": "stdout",
     "output_type": "stream",
     "text": [
      "54\n",
      "54.00 km = 33.55 miles\n"
     ]
    }
   ],
   "source": [
    "k= float(input())\n",
    "c = 0.621371\n",
    "m = k * c \n",
    "print(\"%0.2f km = %0.2f miles\" %(k,m))\n"
   ]
  },
  {
   "cell_type": "code",
   "execution_count": 10,
   "metadata": {},
   "outputs": [
    {
     "name": "stdout",
     "output_type": "stream",
     "text": [
      "65\n",
      "65.00 km = 40.39 miles\n"
     ]
    }
   ],
   "source": [
    "k= float(input())\n",
    "c = 0.621371\n",
    "m = k * c \n",
    "print(\"%0.2f km = %0.2f miles\" %(k,m))"
   ]
  },
  {
   "cell_type": "code",
   "execution_count": 12,
   "metadata": {
    "scrolled": true
   },
   "outputs": [
    {
     "name": "stdout",
     "output_type": "stream",
     "text": [
      "65\n",
      "65.00 miles = 104.61 km\n"
     ]
    }
   ],
   "source": [
    "m= float(input())\n",
    "c = 1.60934\n",
    "k = m * c \n",
    "print(\"%0.2f miles = %0.2f km\" %(m,k))"
   ]
  },
  {
   "cell_type": "markdown",
   "metadata": {},
   "source": [
    "## Convert celsius to fahrenheit and vice-versa"
   ]
  },
  {
   "cell_type": "code",
   "execution_count": 13,
   "metadata": {},
   "outputs": [
    {
     "name": "stdout",
     "output_type": "stream",
     "text": [
      "0\n",
      "0.00 celcius = 32.00 fahrenheit\n"
     ]
    }
   ],
   "source": [
    "c= float(input())\n",
    "f=((c*(9/5))+32)\n",
    "print(\"%0.2f celcius = %0.2f fahrenheit\" %(c,f))"
   ]
  },
  {
   "cell_type": "code",
   "execution_count": 16,
   "metadata": {},
   "outputs": [
    {
     "name": "stdout",
     "output_type": "stream",
     "text": [
      "32\n",
      "32.00 fahrenheit = 0.00 celcius\n"
     ]
    }
   ],
   "source": [
    "f= float(input())\n",
    "c=(f - 32) * (5/9)\n",
    "print(\"%0.2f fahrenheit = %0.2f celcius\" %(f,c))"
   ]
  },
  {
   "cell_type": "markdown",
   "metadata": {},
   "source": [
    "## Check if a Number is Positive, Negative or 0"
   ]
  },
  {
   "cell_type": "code",
   "execution_count": null,
   "metadata": {},
   "outputs": [],
   "source": [
    "if (n>0):\n",
    "    print('positive')\n",
    "elif (n<0):\n",
    "    print('negative')\n",
    "else:\n",
    "    print(0)\n"
   ]
  },
  {
   "cell_type": "code",
   "execution_count": 26,
   "metadata": {},
   "outputs": [
    {
     "name": "stdout",
     "output_type": "stream",
     "text": [
      "0\n",
      "0\n"
     ]
    }
   ],
   "source": [
    "n=int(input())\n",
    "if (n>0):\n",
    "    print('positive')\n",
    "elif (n<0):\n",
    "    print('negative')\n",
    "else:\n",
    "    print(0)"
   ]
  },
  {
   "cell_type": "code",
   "execution_count": 27,
   "metadata": {},
   "outputs": [
    {
     "name": "stdout",
     "output_type": "stream",
     "text": [
      "-87\n",
      "negative\n"
     ]
    }
   ],
   "source": [
    "n=int(input())\n",
    "if (n>0):\n",
    "    print('positive')\n",
    "elif (n<0):\n",
    "    print('negative')\n",
    "else:\n",
    "    print(0)"
   ]
  },
  {
   "cell_type": "markdown",
   "metadata": {},
   "source": [
    "## Check if a Number is Odd or Even "
   ]
  },
  {
   "cell_type": "code",
   "execution_count": 29,
   "metadata": {},
   "outputs": [
    {
     "name": "stdout",
     "output_type": "stream",
     "text": [
      "Enter the nunber :24\n",
      "Even\n"
     ]
    }
   ],
   "source": [
    "n=int(input(\"Enter the nunber :\"))\n",
    "if(n%2==0):\n",
    "    print(\"Even\")\n",
    "else:\n",
    "    print(\"Odd\")"
   ]
  },
  {
   "cell_type": "code",
   "execution_count": 30,
   "metadata": {},
   "outputs": [
    {
     "name": "stdout",
     "output_type": "stream",
     "text": [
      "Enter the nunber :-4\n",
      "Even\n"
     ]
    }
   ],
   "source": [
    "n=int(input(\"Enter the nunber :\"))\n",
    "if(n%2==0):\n",
    "    print(\"Even\")\n",
    "else:\n",
    "    print(\"Odd\")"
   ]
  },
  {
   "cell_type": "code",
   "execution_count": 31,
   "metadata": {},
   "outputs": [
    {
     "name": "stdout",
     "output_type": "stream",
     "text": [
      "Enter the nunber :-9\n",
      "Odd\n"
     ]
    }
   ],
   "source": [
    "n=int(input(\"Enter the nunber :\"))\n",
    "if(n%2==0):\n",
    "    print(\"Even\")\n",
    "else:\n",
    "    print(\"Odd\")"
   ]
  },
  {
   "cell_type": "markdown",
   "metadata": {},
   "source": [
    "##  Check Leap Year "
   ]
  },
  {
   "cell_type": "code",
   "execution_count": 37,
   "metadata": {},
   "outputs": [
    {
     "name": "stdout",
     "output_type": "stream",
     "text": [
      "Enter the year :2017\n",
      "2017 is not a leap year\n"
     ]
    }
   ],
   "source": [
    "n=int(input(\"Enter the year :\"))\n",
    "if(n % 4 == 0):\n",
    "    if(n % 100 == 0):\n",
    "        if(n % 400 == 0):\n",
    "            print(\"{0} is a leap year\".format(n))\n",
    "        else:\n",
    "            print(\"{0} is not a leap year\".format(n))\n",
    "    else:\n",
    "        print(\"{0} is not a leap year\".format(n))\n",
    "else:\n",
    "    print(\"{0} is not a leap year\".format(n))"
   ]
  },
  {
   "cell_type": "code",
   "execution_count": 39,
   "metadata": {},
   "outputs": [
    {
     "name": "stdout",
     "output_type": "stream",
     "text": [
      "Enter the year :2000\n",
      "2000 is a leap year\n"
     ]
    }
   ],
   "source": [
    "n=int(input(\"Enter the year :\"))\n",
    "if(n % 4 == 0):\n",
    "    if(n % 100 == 0):\n",
    "        if(n % 400 == 0):\n",
    "            print(\"{0} is a leap year\".format(n))\n",
    "        else:\n",
    "            print(\"{0} is not a leap year\".format(n))\n",
    "    else:\n",
    "        print(\"{0} is not a leap year\".format(n))\n",
    "else:\n",
    "    print(\"{0} is not a leap year\".format(n))"
   ]
  },
  {
   "cell_type": "markdown",
   "metadata": {},
   "source": [
    "## Find the Largest Among Three Numbers"
   ]
  },
  {
   "cell_type": "code",
   "execution_count": 41,
   "metadata": {},
   "outputs": [
    {
     "name": "stdout",
     "output_type": "stream",
     "text": [
      "3\n",
      "6\n",
      "1\n",
      "The largest number is 6\n"
     ]
    }
   ],
   "source": [
    "num1=int(input())\n",
    "num2=int(input())\n",
    "num3=int(input())\n",
    "\n",
    "if (num1 >= num2) and (num1 >= num3):\n",
    "    largest = num1\n",
    "elif (num2 >= num1) and (num2 >= num3):\n",
    "    largest = num2\n",
    "else:\n",
    "    largest = num3\n",
    "\n",
    "print(\"The largest number is\", largest)"
   ]
  },
  {
   "cell_type": "code",
   "execution_count": 42,
   "metadata": {},
   "outputs": [
    {
     "name": "stdout",
     "output_type": "stream",
     "text": [
      "56\n",
      "34\n",
      "9000\n",
      "The largest number is 9000\n"
     ]
    }
   ],
   "source": [
    "num1=int(input())\n",
    "num2=int(input())\n",
    "num3=int(input())\n",
    "\n",
    "if (num1 >= num2) and (num1 >= num3):\n",
    "    largest = num1\n",
    "elif (num2 >= num1) and (num2 >= num3):\n",
    "    largest = num2\n",
    "else:\n",
    "    largest = num3\n",
    "\n",
    "print(\"The largest number is\", largest)"
   ]
  },
  {
   "cell_type": "markdown",
   "metadata": {},
   "source": [
    "## check if a number is prime or not "
   ]
  },
  {
   "cell_type": "code",
   "execution_count": 47,
   "metadata": {},
   "outputs": [
    {
     "name": "stdout",
     "output_type": "stream",
     "text": [
      "21\n",
      "Not prime\n"
     ]
    }
   ],
   "source": [
    "n = int(input())\n",
    "for i in range (1,n):\n",
    "    if(n%i==0):\n",
    "        k=k+1\n",
    "if(k==1):\n",
    "    print(\"prime\")\n",
    "else:\n",
    "    print(\"Not prime\")"
   ]
  },
  {
   "cell_type": "code",
   "execution_count": 51,
   "metadata": {},
   "outputs": [
    {
     "name": "stdout",
     "output_type": "stream",
     "text": [
      "7\n",
      "prime\n"
     ]
    }
   ],
   "source": [
    "n = int(input())\n",
    "flag = False\n",
    "for i in range (2,n):\n",
    "    if(n%i==0):\n",
    "        flag = True\n",
    "        break\n",
    "if flag:\n",
    "    print(\"Not prime\")\n",
    "else:\n",
    "    print(\"prime\")"
   ]
  },
  {
   "cell_type": "code",
   "execution_count": 52,
   "metadata": {},
   "outputs": [
    {
     "name": "stdout",
     "output_type": "stream",
     "text": [
      "13\n",
      "prime\n"
     ]
    }
   ],
   "source": [
    "n = int(input())\n",
    "flag = False\n",
    "for i in range (2,n):\n",
    "    if(n%i==0):\n",
    "        flag = True\n",
    "        break\n",
    "if flag:\n",
    "    print(\"Not prime\")\n",
    "else:\n",
    "    print(\"prime\")"
   ]
  },
  {
   "cell_type": "code",
   "execution_count": 54,
   "metadata": {},
   "outputs": [
    {
     "name": "stdout",
     "output_type": "stream",
     "text": [
      "6\n",
      "Not prime\n"
     ]
    }
   ],
   "source": [
    "n = int(input())\n",
    "flag = False\n",
    "for i in range (2,n):\n",
    "    if(n%i==0):\n",
    "        flag = True\n",
    "        break\n",
    "if flag:\n",
    "    print(\"Not prime\")\n",
    "else:\n",
    "    print(\"prime\")"
   ]
  },
  {
   "cell_type": "markdown",
   "metadata": {},
   "source": [
    "## display all the prime numbers within an interval"
   ]
  },
  {
   "cell_type": "code",
   "execution_count": 55,
   "metadata": {},
   "outputs": [
    {
     "name": "stdout",
     "output_type": "stream",
     "text": [
      "4\n",
      "25\n",
      "Prime numbers between 4 and 25 are:\n",
      "5\n",
      "7\n",
      "11\n",
      "13\n",
      "17\n",
      "19\n",
      "23\n"
     ]
    }
   ],
   "source": [
    "lower = int(input())\n",
    "upper = int(input())\n",
    "\n",
    "print(\"Prime numbers between\", lower, \"and\", upper, \"are:\")\n",
    "\n",
    "for num in range(lower, upper + 1):\n",
    "    if num > 1:\n",
    "        for i in range(2, num):\n",
    "            if (num % i) == 0:\n",
    "                break\n",
    "        else:\n",
    "            print(num)"
   ]
  },
  {
   "cell_type": "markdown",
   "metadata": {},
   "source": [
    "## to find the factorial of a number"
   ]
  },
  {
   "cell_type": "code",
   "execution_count": 58,
   "metadata": {},
   "outputs": [
    {
     "name": "stdout",
     "output_type": "stream",
     "text": [
      "6\n",
      "The factorial of 6 is 720\n"
     ]
    }
   ],
   "source": [
    "num=int(input())\n",
    "factorial = 1\n",
    "if (num < 0):\n",
    "    print(\"The factorial does not exist\")\n",
    "if (num == 0):\n",
    "    print(\"The factorial of 0 is 1\")\n",
    "else:\n",
    "    for i in range(1,num + 1):\n",
    "        factorial = factorial*i\n",
    "    print(\"The factorial of\",num,\"is\",factorial)"
   ]
  },
  {
   "cell_type": "code",
   "execution_count": 59,
   "metadata": {},
   "outputs": [
    {
     "name": "stdout",
     "output_type": "stream",
     "text": [
      "3\n",
      "The factorial of 3 is 6\n"
     ]
    }
   ],
   "source": [
    "num=int(input())\n",
    "factorial = 1\n",
    "if (num < 0):\n",
    "    print(\"The factorial does not exist\")\n",
    "if (num == 0):\n",
    "    print(\"The factorial of 0 is 1\")\n",
    "else:\n",
    "    for i in range(1,num + 1):\n",
    "        factorial = factorial*i\n",
    "    print(\"The factorial of\",num,\"is\",factorial)"
   ]
  },
  {
   "cell_type": "markdown",
   "metadata": {},
   "source": [
    "## Display the multiplication Table"
   ]
  },
  {
   "cell_type": "code",
   "execution_count": 60,
   "metadata": {},
   "outputs": [
    {
     "name": "stdout",
     "output_type": "stream",
     "text": [
      "Display multiplication table of? 6\n",
      "6 x 1 = 6\n",
      "6 x 2 = 12\n",
      "6 x 3 = 18\n",
      "6 x 4 = 24\n",
      "6 x 5 = 30\n",
      "6 x 6 = 36\n",
      "6 x 7 = 42\n",
      "6 x 8 = 48\n",
      "6 x 9 = 54\n",
      "6 x 10 = 60\n"
     ]
    }
   ],
   "source": [
    "num = int(input(\"Display multiplication table of? \"))\n",
    "for i in range(1, 11):\n",
    "   print(num, 'x', i, '=', num*i)"
   ]
  },
  {
   "cell_type": "markdown",
   "metadata": {},
   "source": [
    "## Print the Fibonacci sequence"
   ]
  },
  {
   "cell_type": "code",
   "execution_count": 68,
   "metadata": {},
   "outputs": [
    {
     "name": "stdout",
     "output_type": "stream",
     "text": [
      "7\n",
      "Fibonacci sequence:\n",
      "0\n",
      "7\n",
      "8\n",
      "14\n",
      "15\n",
      "21\n",
      "22\n"
     ]
    }
   ],
   "source": [
    "n = int(input())\n",
    "a=0\n",
    "b=1\n",
    "count = 0\n",
    "nth = 0\n",
    "if (n==1):\n",
    "    print(\"Fibonacci sequence upto 'n':\")\n",
    "else:\n",
    "    print(\"Fibonacci sequence:\")\n",
    "    while count < n:\n",
    "        print(nth)\n",
    "        nth = a + n\n",
    "        a = b\n",
    "        b = nth\n",
    "        count += 1\n",
    "    "
   ]
  },
  {
   "cell_type": "code",
   "execution_count": 67,
   "metadata": {},
   "outputs": [
    {
     "name": "stdout",
     "output_type": "stream",
     "text": [
      "Enter the value of n: 7\n",
      "Fibonacci Series:  0 1 1 2 3 5 8 "
     ]
    }
   ],
   "source": [
    "n = int(input(\"Enter the value of n: \"))\n",
    "a = 0\n",
    "b = 1\n",
    "sum = 0\n",
    "count = 1\n",
    "print(\"Fibonacci Series: \", end = \" \")\n",
    "while(count <= n):\n",
    "  print(sum, end = \" \")\n",
    "  count += 1\n",
    "  a = b\n",
    "  b = sum\n",
    "  sum = a + b"
   ]
  },
  {
   "cell_type": "code",
   "execution_count": null,
   "metadata": {},
   "outputs": [],
   "source": []
  }
 ],
 "metadata": {
  "kernelspec": {
   "display_name": "Python 3",
   "language": "python",
   "name": "python3"
  },
  "language_info": {
   "codemirror_mode": {
    "name": "ipython",
    "version": 3
   },
   "file_extension": ".py",
   "mimetype": "text/x-python",
   "name": "python",
   "nbconvert_exporter": "python",
   "pygments_lexer": "ipython3",
   "version": "3.8.5"
  }
 },
 "nbformat": 4,
 "nbformat_minor": 4
}
