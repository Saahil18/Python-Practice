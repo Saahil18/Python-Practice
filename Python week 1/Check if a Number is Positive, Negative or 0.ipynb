{
 "cells": [
  {
   "cell_type": "markdown",
   "id": "f88e7a56",
   "metadata": {},
   "source": [
    "# Check if a Number is Positive, Negative or 0"
   ]
  },
  {
   "cell_type": "code",
   "execution_count": 1,
   "id": "7278c9a5",
   "metadata": {},
   "outputs": [
    {
     "name": "stdout",
     "output_type": "stream",
     "text": [
      "45\n",
      "positive\n"
     ]
    }
   ],
   "source": [
    "n=int(input())\n",
    "if (n>0):\n",
    "    print('positive')\n",
    "elif (n<0):\n",
    "    print('negative')\n",
    "else:\n",
    "    print(0)"
   ]
  },
  {
   "cell_type": "code",
   "execution_count": 2,
   "id": "98bd8290",
   "metadata": {},
   "outputs": [
    {
     "name": "stdout",
     "output_type": "stream",
     "text": [
      "-98\n",
      "negative\n"
     ]
    }
   ],
   "source": [
    "n=int(input())\n",
    "if (n>0):\n",
    "    print('positive')\n",
    "elif (n<0):\n",
    "    print('negative')\n",
    "else:\n",
    "    print(0)"
   ]
  },
  {
   "cell_type": "code",
   "execution_count": 3,
   "id": "8f90d80a",
   "metadata": {},
   "outputs": [
    {
     "name": "stdout",
     "output_type": "stream",
     "text": [
      "0\n",
      "0\n"
     ]
    }
   ],
   "source": [
    "n=int(input())\n",
    "if (n>0):\n",
    "    print('positive')\n",
    "elif (n<0):\n",
    "    print('negative')\n",
    "else:\n",
    "    print(0)"
   ]
  },
  {
   "cell_type": "code",
   "execution_count": null,
   "id": "989bba58",
   "metadata": {},
   "outputs": [],
   "source": []
  }
 ],
 "metadata": {
  "kernelspec": {
   "display_name": "Python 3",
   "language": "python",
   "name": "python3"
  },
  "language_info": {
   "codemirror_mode": {
    "name": "ipython",
    "version": 3
   },
   "file_extension": ".py",
   "mimetype": "text/x-python",
   "name": "python",
   "nbconvert_exporter": "python",
   "pygments_lexer": "ipython3",
   "version": "3.8.10"
  }
 },
 "nbformat": 4,
 "nbformat_minor": 5
}
