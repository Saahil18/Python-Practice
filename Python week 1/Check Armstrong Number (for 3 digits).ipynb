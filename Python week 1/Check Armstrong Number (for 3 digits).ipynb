{
 "cells": [
  {
   "cell_type": "markdown",
   "id": "78817884",
   "metadata": {},
   "source": [
    "# Check Armstrong Number (for 3 digits)"
   ]
  },
  {
   "cell_type": "code",
   "execution_count": 13,
   "id": "a3413dc0",
   "metadata": {},
   "outputs": [
    {
     "name": "stdout",
     "output_type": "stream",
     "text": [
      "153\n",
      "Armstrong number\n"
     ]
    }
   ],
   "source": [
    "x=int(input())\n",
    "sum=0\n",
    "z=x\n",
    "while z > 0:\n",
    "    k = z % 10\n",
    "    sum += k**3\n",
    "    z //= 10\n",
    "    l+=1\n",
    "if (x==sum):\n",
    "    print(\"Armstrong number\")\n",
    "else:\n",
    "    print(\"Not Armstrong number\")"
   ]
  },
  {
   "cell_type": "code",
   "execution_count": 14,
   "id": "4dae3770",
   "metadata": {},
   "outputs": [
    {
     "name": "stdout",
     "output_type": "stream",
     "text": [
      "134\n",
      "Not Armstrong number\n"
     ]
    }
   ],
   "source": [
    "x=int(input())\n",
    "sum=0\n",
    "z=x\n",
    "while z > 0:\n",
    "    k = z % 10\n",
    "    sum += k**3\n",
    "    z //= 10\n",
    "    l+=1\n",
    "if (x==sum):\n",
    "    print(\"Armstrong number\")\n",
    "else:\n",
    "    print(\"Not Armstrong number\")"
   ]
  },
  {
   "cell_type": "code",
   "execution_count": null,
   "id": "d685d00c",
   "metadata": {},
   "outputs": [],
   "source": []
  }
 ],
 "metadata": {
  "kernelspec": {
   "display_name": "Python 3",
   "language": "python",
   "name": "python3"
  },
  "language_info": {
   "codemirror_mode": {
    "name": "ipython",
    "version": 3
   },
   "file_extension": ".py",
   "mimetype": "text/x-python",
   "name": "python",
   "nbconvert_exporter": "python",
   "pygments_lexer": "ipython3",
   "version": "3.8.10"
  }
 },
 "nbformat": 4,
 "nbformat_minor": 5
}
