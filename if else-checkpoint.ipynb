{
 "cells": [
  {
   "cell_type": "code",
   "execution_count": null,
   "id": "cfde3a69",
   "metadata": {},
   "outputs": [],
   "source": [
    "import math\n",
    "n = int(input())\n",
    "if n % 2 == 0:\n",
    "    if n in range(2,6):\n",
    "        print(\"Not Weird\")\n",
    "\n",
    "    elif n in range(6,21):\n",
    "        print(\"Weird\")\n",
    "\n",
    "    elif n > 20:\n",
    "        print(\"Not Weird\")\n",
    "else:\n",
    "    print(\"Weird\")"
   ]
  }
 ],
 "metadata": {
  "kernelspec": {
   "display_name": "Python 3",
   "language": "python",
   "name": "python3"
  },
  "language_info": {
   "codemirror_mode": {
    "name": "ipython",
    "version": 3
   },
   "file_extension": ".py",
   "mimetype": "text/x-python",
   "name": "python",
   "nbconvert_exporter": "python",
   "pygments_lexer": "ipython3",
   "version": "3.8.10"
  }
 },
 "nbformat": 4,
 "nbformat_minor": 5
}
