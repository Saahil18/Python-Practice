{
 "cells": [
  {
   "cell_type": "code",
   "execution_count": 1,
   "id": "93f93ca2",
   "metadata": {},
   "outputs": [
    {
     "name": "stdout",
     "output_type": "stream",
     "text": [
      "item matched\n",
      "found at 2 location\n"
     ]
    }
   ],
   "source": [
    "list =[1,2,3,4]  \n",
    "count = 1;  \n",
    "for i in list:  \n",
    "    if i == 4:  \n",
    "        print(\"item matched\")  \n",
    "        count = count + 1;  \n",
    "        break  \n",
    "print(\"found at\",count,\"location\");"
   ]
  },
  {
   "cell_type": "code",
   "execution_count": 8,
   "id": "4254685e",
   "metadata": {},
   "outputs": [
    {
     "name": "stdout",
     "output_type": "stream",
     "text": [
      "0\n",
      "1\n",
      "3\n",
      "4\n",
      "5\n",
      "6\n",
      "7\n"
     ]
    }
   ],
   "source": [
    "for i in range(8):\n",
    "    if i==2:\n",
    "        continue\n",
    "    print(i)"
   ]
  },
  {
   "cell_type": "code",
   "execution_count": 13,
   "id": "4b5403aa",
   "metadata": {},
   "outputs": [
    {
     "name": "stdout",
     "output_type": "stream",
     "text": [
      "2\n"
     ]
    }
   ],
   "source": [
    "for i in range(8):\n",
    "    if i==2:\n",
    "        print(i)\n",
    "        continue"
   ]
  },
  {
   "cell_type": "code",
   "execution_count": 3,
   "id": "ed0d98e4",
   "metadata": {},
   "outputs": [
    {
     "name": "stdout",
     "output_type": "stream",
     "text": [
      "s\n",
      "t\n",
      "r\n",
      "n\n",
      "g\n",
      "The end\n"
     ]
    }
   ],
   "source": [
    "for val in \"string\":\n",
    "    if val == \"i\":\n",
    "        continue\n",
    "    print(val)\n",
    "\n",
    "print(\"The end\")"
   ]
  },
  {
   "cell_type": "code",
   "execution_count": 10,
   "id": "40a28703",
   "metadata": {},
   "outputs": [
    {
     "name": "stdout",
     "output_type": "stream",
     "text": [
      "Sum of first  5 integers is:  15\n"
     ]
    }
   ],
   "source": [
    "numbers = (1, 2, 3, 4, 5, 6, 7, 8, 9)\n",
    "num_sum = 0\n",
    "count = 0\n",
    "for x in numbers:\n",
    "    num_sum = num_sum + x\n",
    "    count = count + 1 \n",
    "    if count == 5:\n",
    "        break\n",
    "print(\"Sum of first \",count,\"integers is: \", num_sum)"
   ]
  },
  {
   "cell_type": "code",
   "execution_count": 12,
   "id": "8b28f6fa",
   "metadata": {},
   "outputs": [
    {
     "name": "stdout",
     "output_type": "stream",
     "text": [
      "Sum of first  9 integers except 5 is:  45\n"
     ]
    }
   ],
   "source": [
    "numbers = (1, 2, 3, 4, 5, 6, 7, 8, 9)\n",
    "num_sum = 0\n",
    "count = 0\n",
    "for x in numbers:\n",
    "    num_sum = num_sum + x\n",
    "    count = count + 1 \n",
    "    if count == 5:\n",
    "        continue\n",
    "print(\"Sum of first \",count,\"integers except 5 is: \", num_sum)"
   ]
  },
  {
   "cell_type": "code",
   "execution_count": 13,
   "id": "32d2a81b",
   "metadata": {},
   "outputs": [
    {
     "name": "stdout",
     "output_type": "stream",
     "text": [
      "rain\n",
      "sun\n",
      "moon\n"
     ]
    }
   ],
   "source": [
    "words = [\"rain\", \"sun\", \"moon\", \"exit\", \"weather\"]\n",
    "  \n",
    "for word in words:\n",
    "        if word == \"exit\" :\n",
    "                break;\n",
    "        print (word)"
   ]
  },
  {
   "cell_type": "code",
   "execution_count": 14,
   "id": "a82a6adc",
   "metadata": {},
   "outputs": [
    {
     "name": "stdout",
     "output_type": "stream",
     "text": [
      "rain\n",
      "sun\n",
      "moon\n",
      "weather\n"
     ]
    }
   ],
   "source": [
    "words = [\"rain\", \"sun\", \"moon\", \"exit\", \"weather\"]\n",
    "  \n",
    "for word in words:\n",
    "        if word == \"exit\" :\n",
    "                continue;\n",
    "        print (word)"
   ]
  },
  {
   "cell_type": "code",
   "execution_count": 15,
   "id": "c122aaba",
   "metadata": {},
   "outputs": [
    {
     "name": "stdout",
     "output_type": "stream",
     "text": [
      "1\n",
      "3\n",
      "5\n",
      "7\n",
      "9\n"
     ]
    }
   ],
   "source": [
    "numbers = [ 1, 2, 4, 3, 6, 5, 7, 10, 9 ]\n",
    "i = 0 \n",
    "while i < len(numbers):\n",
    "        if numbers[i] % 2 == 0 :\n",
    "                i = i + 1\n",
    "                continue\n",
    "        print (numbers[i])\n",
    "        i += 1"
   ]
  },
  {
   "cell_type": "code",
   "execution_count": null,
   "id": "6162966e",
   "metadata": {},
   "outputs": [],
   "source": []
  }
 ],
 "metadata": {
  "kernelspec": {
   "display_name": "Python 3",
   "language": "python",
   "name": "python3"
  },
  "language_info": {
   "codemirror_mode": {
    "name": "ipython",
    "version": 3
   },
   "file_extension": ".py",
   "mimetype": "text/x-python",
   "name": "python",
   "nbconvert_exporter": "python",
   "pygments_lexer": "ipython3",
   "version": "3.8.10"
  }
 },
 "nbformat": 4,
 "nbformat_minor": 5
}
