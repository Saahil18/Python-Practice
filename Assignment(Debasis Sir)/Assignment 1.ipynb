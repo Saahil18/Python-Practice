{
 "cells": [
  {
   "cell_type": "markdown",
   "id": "332e43a1",
   "metadata": {},
   "source": [
    "# WAP to print table of n, where n is entered by the user"
   ]
  },
  {
   "cell_type": "code",
   "execution_count": 2,
   "id": "efb72ecc",
   "metadata": {},
   "outputs": [
    {
     "name": "stdout",
     "output_type": "stream",
     "text": [
      "Display multiplication table of? 45\n",
      "45 x 1 = 45\n",
      "45 x 2 = 90\n",
      "45 x 3 = 135\n",
      "45 x 4 = 180\n",
      "45 x 5 = 225\n",
      "45 x 6 = 270\n",
      "45 x 7 = 315\n",
      "45 x 8 = 360\n",
      "45 x 9 = 405\n",
      "45 x 10 = 450\n"
     ]
    }
   ],
   "source": [
    "num = int(input(\"Display multiplication table of? \"))\n",
    "for i in range(1, 11):\n",
    "   print(num, 'x', i, '=', num*i)"
   ]
  },
  {
   "cell_type": "markdown",
   "id": "09d11686",
   "metadata": {},
   "source": [
    "\n",
    "# WAP to print sum of n natural numbers, where n is entered by the user"
   ]
  },
  {
   "cell_type": "code",
   "execution_count": 3,
   "id": "7a68d5e4",
   "metadata": {},
   "outputs": [
    {
     "name": "stdout",
     "output_type": "stream",
     "text": [
      "Enter the number8\n",
      "36\n"
     ]
    }
   ],
   "source": [
    "num = int(input(\"Enter the number\"))\n",
    "sum=0\n",
    "for i in range(1, num+1):\n",
    "       sum = sum + i\n",
    "print(sum)"
   ]
  },
  {
   "cell_type": "markdown",
   "id": "865d7470",
   "metadata": {},
   "source": [
    "# WAP to print the factorial of the given number, where number is entered by the user. "
   ]
  },
  {
   "cell_type": "code",
   "execution_count": 4,
   "id": "ff39b43a",
   "metadata": {},
   "outputs": [
    {
     "name": "stdout",
     "output_type": "stream",
     "text": [
      "Enter the number5\n",
      "120\n"
     ]
    }
   ],
   "source": [
    "num = int(input(\"Enter the number\"))\n",
    "sum=1\n",
    "for i in range(1, num+1):\n",
    "       sum = sum * i\n",
    "print(sum)"
   ]
  },
  {
   "cell_type": "markdown",
   "id": "95d8b562",
   "metadata": {},
   "source": [
    "# WAP to input sales of the month and calculate the average sales of that month "
   ]
  },
  {
   "cell_type": "code",
   "execution_count": 2,
   "id": "b9dafe0a",
   "metadata": {},
   "outputs": [
    {
     "name": "stdout",
     "output_type": "stream",
     "text": [
      "Enter the number of days:3\n",
      "Enter sales of day  1\n",
      "45\n",
      "Enter sales of day  2\n",
      "67\n",
      "Enter sales of day  3\n",
      "54\n",
      "Sale is: [45, 67, 54]\n",
      "Average sale of the month is :  55.333333333333336\n"
     ]
    }
   ],
   "source": [
    "def avg(a,b):\n",
    "    return a/b\n",
    "list=[]\n",
    "n=int(input('Enter the number of days:'))\n",
    "for i in range(1,n+1):\n",
    "    print('Enter sales of day ',i)\n",
    "    sales=int(input())\n",
    "    list.append(sales)\n",
    "print('Sale is:',list)\n",
    "show=sum(list,0)\n",
    "l=len(list)\n",
    "average=avg(show,l)\n",
    "print('Average sale of the month is : ',average)"
   ]
  },
  {
   "cell_type": "code",
   "execution_count": null,
   "id": "b31f053c",
   "metadata": {},
   "outputs": [],
   "source": []
  }
 ],
 "metadata": {
  "kernelspec": {
   "display_name": "Python 3",
   "language": "python",
   "name": "python3"
  },
  "language_info": {
   "codemirror_mode": {
    "name": "ipython",
    "version": 3
   },
   "file_extension": ".py",
   "mimetype": "text/x-python",
   "name": "python",
   "nbconvert_exporter": "python",
   "pygments_lexer": "ipython3",
   "version": "3.8.10"
  }
 },
 "nbformat": 4,
 "nbformat_minor": 5
}
