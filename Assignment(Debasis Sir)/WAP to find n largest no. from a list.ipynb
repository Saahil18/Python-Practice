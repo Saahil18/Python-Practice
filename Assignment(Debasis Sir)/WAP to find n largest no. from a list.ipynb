{
 "cells": [
  {
   "cell_type": "markdown",
   "id": "0e464316",
   "metadata": {},
   "source": [
    "# WAP to find n largest no. from a list"
   ]
  },
  {
   "cell_type": "code",
   "execution_count": 7,
   "id": "ac2ab22a",
   "metadata": {},
   "outputs": [
    {
     "name": "stdout",
     "output_type": "stream",
     "text": [
      "[85, 41]\n"
     ]
    }
   ],
   "source": [
    "def maxn(list1, N): \n",
    "    final_list = [] \n",
    "    for i in range(0, N):  \n",
    "        max1 = 0\n",
    "        for j in range(len(list1)):      \n",
    "            if list1[j] > max1: \n",
    "                max1 = list1[j];         \n",
    "        list1.remove(max1); \n",
    "        final_list.append(max1)          \n",
    "    print(final_list) \n",
    "list1 = [2, 6, 41, 85, 0, 3, 7, 6, 10] \n",
    "N = 2 \n",
    " \n",
    "maxn(list1, N) "
   ]
  },
  {
   "cell_type": "code",
   "execution_count": 8,
   "id": "e6f5f8fb",
   "metadata": {},
   "outputs": [
    {
     "name": "stdout",
     "output_type": "stream",
     "text": [
      "[456, 322, 78]\n"
     ]
    }
   ],
   "source": [
    "def maxn(list1, N): \n",
    "    final_list = [] \n",
    "    for i in range(0, N):  \n",
    "        max1 = 0\n",
    "        for j in range(len(list1)):      \n",
    "            if list1[j] > max1: \n",
    "                max1 = list1[j];         \n",
    "        list1.remove(max1); \n",
    "        final_list.append(max1)          \n",
    "    print(final_list) \n",
    "list1 = [34,56,43,456,322,56,78,65,43] \n",
    "N = 3 \n",
    " \n",
    "maxn(list1, N) "
   ]
  },
  {
   "cell_type": "code",
   "execution_count": 13,
   "id": "c09eee42",
   "metadata": {},
   "outputs": [
    {
     "name": "stdout",
     "output_type": "stream",
     "text": [
      "[456, 322, 78, 65]\n"
     ]
    }
   ],
   "source": [
    "def maxn(list1, N): \n",
    "    final_list = [] \n",
    "    for i in range(0, N):  \n",
    "        max1 = 0\n",
    "        for j in range(len(list1)):      \n",
    "            if list1[j] > max1: \n",
    "                max1 = list1[j];         \n",
    "        list1.remove(max1); \n",
    "        final_list.append(max1)          \n",
    "    print(final_list) \n",
    "list1 = [34,56,43,456,322,56,78,65,43]  \n",
    "N = 4\n",
    "         \n",
    "maxn(list1, N) "
   ]
  },
  {
   "cell_type": "code",
   "execution_count": 14,
   "id": "eed3868e",
   "metadata": {},
   "outputs": [
    {
     "name": "stdout",
     "output_type": "stream",
     "text": [
      "[1000]\n"
     ]
    }
   ],
   "source": [
    "def maxn(list1, N): \n",
    "    final_list = [] \n",
    "    for i in range(0, N):  \n",
    "        max1 = 0\n",
    "        for j in range(len(list1)):      \n",
    "            if list1[j] > max1: \n",
    "                max1 = list1[j];         \n",
    "        list1.remove(max1); \n",
    "        final_list.append(max1)          \n",
    "    print(final_list) \n",
    "list1 = [34,56,43,456,322,56,78,65,43,345,32,34,43,12,890,654,245,1000]  \n",
    "N = 1\n",
    "         \n",
    "maxn(list1, N) "
   ]
  },
  {
   "cell_type": "code",
   "execution_count": 16,
   "id": "5338de64",
   "metadata": {},
   "outputs": [
    {
     "name": "stdout",
     "output_type": "stream",
     "text": [
      "[1000, 890]\n"
     ]
    }
   ],
   "source": [
    "def maxn(list1, N): \n",
    "    final_list = [] \n",
    "    for i in range(0, N):  \n",
    "        max1 = 0\n",
    "        for j in range(len(list1)):      \n",
    "            if list1[j] > max1: \n",
    "                max1 = list1[j];         \n",
    "        list1.remove(max1); \n",
    "        final_list.append(max1)          \n",
    "    print(final_list) \n",
    "list1 = [34,56,43,456,322,56,78,65,43,345,32,34,43,12,890,654,245,1000]  \n",
    "N = 2\n",
    "         \n",
    "maxn(list1, N) "
   ]
  },
  {
   "cell_type": "code",
   "execution_count": 15,
   "id": "5927176a",
   "metadata": {},
   "outputs": [
    {
     "name": "stdout",
     "output_type": "stream",
     "text": [
      "[456, 322]\n"
     ]
    }
   ],
   "source": [
    "def maxn(list1, N): \n",
    "    final_list = [] \n",
    "    for i in range(0, N):  \n",
    "        max1 = 0\n",
    "        for j in range(len(list1)):      \n",
    "            if list1[j] > max1: \n",
    "                max1 = list1[j];         \n",
    "        list1.remove(max1); \n",
    "        final_list.append(max1)          \n",
    "    print(final_list) \n",
    "list1 = [34,56,43,456,322,56,78,65,43]  \n",
    "N = 2\n",
    "         \n",
    "maxn(list1, N) "
   ]
  },
  {
   "cell_type": "code",
   "execution_count": null,
   "id": "e49687cb",
   "metadata": {},
   "outputs": [],
   "source": []
  }
 ],
 "metadata": {
  "kernelspec": {
   "display_name": "Python 3",
   "language": "python",
   "name": "python3"
  },
  "language_info": {
   "codemirror_mode": {
    "name": "ipython",
    "version": 3
   },
   "file_extension": ".py",
   "mimetype": "text/x-python",
   "name": "python",
   "nbconvert_exporter": "python",
   "pygments_lexer": "ipython3",
   "version": "3.8.10"
  }
 },
 "nbformat": 4,
 "nbformat_minor": 5
}
