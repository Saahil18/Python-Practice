{
 "cells": [
  {
   "cell_type": "code",
   "execution_count": 4,
   "id": "1b0d7120",
   "metadata": {},
   "outputs": [],
   "source": [
    "def bill(items):\n",
    "    total=0\n",
    "    with open(\"bill.txt\", mode=\"w\") as bill:\n",
    "        bill.write(\"Khanna grocerys\")\n",
    "        for i in items:\n",
    "            quantity = items[i][0]\n",
    "            total_price = quantity*items[i][1]\n",
    "            bill.write(f\"\\n\\nProduct Name:{i}\\n\")\n",
    "            bill.write(f\"Quantity:{items[i][0]}\\n\")\n",
    "            bill.write(f\"Total Price:{total_price}\\n\")\n",
    "            total += total_price\n",
    "        bill.write(f\"\\n\\n\\nYour Grand Total:  Rs.{total}\")"
   ]
  },
  {
   "cell_type": "code",
   "execution_count": 5,
   "id": "ad9f6037",
   "metadata": {},
   "outputs": [],
   "source": [
    "items = {\"Coffee\" :[2,30] , \"Ice cream\" : [4,50] , \"Tea\" : [10,10]}\n",
    "bill(items)"
   ]
  },
  {
   "cell_type": "markdown",
   "id": "fea86654",
   "metadata": {},
   "source": [
    "# Please check the file bill.txt for the output of this program."
   ]
  },
  {
   "cell_type": "code",
   "execution_count": null,
   "id": "ac4f617d",
   "metadata": {},
   "outputs": [],
   "source": []
  }
 ],
 "metadata": {
  "kernelspec": {
   "display_name": "Python 3",
   "language": "python",
   "name": "python3"
  },
  "language_info": {
   "codemirror_mode": {
    "name": "ipython",
    "version": 3
   },
   "file_extension": ".py",
   "mimetype": "text/x-python",
   "name": "python",
   "nbconvert_exporter": "python",
   "pygments_lexer": "ipython3",
   "version": "3.8.10"
  }
 },
 "nbformat": 4,
 "nbformat_minor": 5
}
