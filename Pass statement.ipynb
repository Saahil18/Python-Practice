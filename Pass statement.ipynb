{
 "cells": [
  {
   "cell_type": "code",
   "execution_count": 1,
   "id": "c2066794",
   "metadata": {},
   "outputs": [
    {
     "name": "stdout",
     "output_type": "stream",
     "text": [
      "L\n",
      "a\n",
      "s\n",
      "t\n",
      "N\n",
      "g\n",
      "h\n",
      "t\n",
      "S\n",
      "t\n",
      "u\n",
      "d\n",
      "y\n"
     ]
    }
   ],
   "source": [
    "for i in 'LastNightStudy':\n",
    "     if(i == 'i'):\n",
    "          pass\n",
    "     else:\n",
    "          print(i)"
   ]
  },
  {
   "cell_type": "code",
   "execution_count": 3,
   "id": "957dca14",
   "metadata": {},
   "outputs": [
    {
     "name": "stdout",
     "output_type": "stream",
     "text": [
      "h\n",
      "pass executed\n",
      "e\n",
      "l\n",
      "l\n",
      "o\n"
     ]
    }
   ],
   "source": [
    "for i in 'hello':\n",
    "     if(i == 'e'):\n",
    "          print('pass executed')\n",
    "          pass\n",
    "     print(i)"
   ]
  },
  {
   "cell_type": "code",
   "execution_count": 4,
   "id": "ebcc7065",
   "metadata": {},
   "outputs": [
    {
     "name": "stdout",
     "output_type": "stream",
     "text": [
      "h\n",
      "continue executed\n",
      "l\n",
      "l\n",
      "o\n"
     ]
    }
   ],
   "source": [
    "for i in 'hello':\n",
    "     if(i == 'e'):\n",
    "          print('continue executed')\n",
    "          continue\n",
    "     print(i)"
   ]
  },
  {
   "cell_type": "code",
   "execution_count": null,
   "id": "60b7447d",
   "metadata": {},
   "outputs": [],
   "source": []
  }
 ],
 "metadata": {
  "kernelspec": {
   "display_name": "Python 3",
   "language": "python",
   "name": "python3"
  },
  "language_info": {
   "codemirror_mode": {
    "name": "ipython",
    "version": 3
   },
   "file_extension": ".py",
   "mimetype": "text/x-python",
   "name": "python",
   "nbconvert_exporter": "python",
   "pygments_lexer": "ipython3",
   "version": "3.8.10"
  }
 },
 "nbformat": 4,
 "nbformat_minor": 5
}
