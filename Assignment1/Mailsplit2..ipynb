{
 "cells": [
  {
   "cell_type": "code",
   "execution_count": 7,
   "id": "143f0e59",
   "metadata": {},
   "outputs": [
    {
     "name": "stdout",
     "output_type": "stream",
     "text": [
      "Number of gmail users are :  12\n",
      "Number of outlook users are :  18\n",
      "umber of yahoo users are :  16\n",
      "Number of gov users are :  14\n"
     ]
    }
   ],
   "source": [
    "with open(\"C:/Users/KIIT/Downloads/Mail.txt\") as string:\n",
    "    data =string.readlines()\n",
    "o=g=m=y=0\n",
    "for i in data:\n",
    "    mail = i.split(\"@\")\n",
    "    add=mail[1].split(\"\\n\")\n",
    "    if add[0]==\"gmail.com\":\n",
    "        g=g+1\n",
    "    elif add[0]==\"yahoo.com\":\n",
    "        y=y+1\n",
    "    elif add[0]==\"gov.in\":\n",
    "        m=m+1\n",
    "    elif add[0]==\"outlook.com\":\n",
    "        o=o+1\n",
    "\n",
    "print(\"Number of gmail users are : \",g)\n",
    "print(\"Number of outlook users are : \",o)\n",
    "print(\"umber of yahoo users are : \",y)\n",
    "print(\"Number of gov users are : \",m)"
   ]
  },
  {
   "cell_type": "code",
   "execution_count": null,
   "id": "3f036f44",
   "metadata": {},
   "outputs": [],
   "source": []
  }
 ],
 "metadata": {
  "kernelspec": {
   "display_name": "Python 3",
   "language": "python",
   "name": "python3"
  },
  "language_info": {
   "codemirror_mode": {
    "name": "ipython",
    "version": 3
   },
   "file_extension": ".py",
   "mimetype": "text/x-python",
   "name": "python",
   "nbconvert_exporter": "python",
   "pygments_lexer": "ipython3",
   "version": "3.8.10"
  }
 },
 "nbformat": 4,
 "nbformat_minor": 5
}
