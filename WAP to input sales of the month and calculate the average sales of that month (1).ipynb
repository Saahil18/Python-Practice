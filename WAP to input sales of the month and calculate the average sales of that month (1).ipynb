{
 "cells": [
  {
   "cell_type": "markdown",
   "id": "5cdf5d5d",
   "metadata": {},
   "source": [
    "# WAP to input sales of the month and calculate the average sales of that month"
   ]
  },
  {
   "cell_type": "code",
   "execution_count": 23,
   "id": "aee837bc",
   "metadata": {},
   "outputs": [
    {
     "name": "stdout",
     "output_type": "stream",
     "text": [
      "Sales of month 34\n",
      "Sales of month 21\n",
      "Sales of month 765\n",
      "Sales of month 98\n",
      "Sales of month 09\n",
      "Sales of month 789\n",
      "Sales of month 54\n",
      "Sales of month 87\n",
      "Sales of month 789\n",
      "Sales of month 987\n",
      "Sales of month 45\n",
      "Sales of month 67\n",
      "312.0833333333333\n"
     ]
    }
   ],
   "source": [
    "s = 0\n",
    "for i in range(0,12):\n",
    "    k = int(input(\"Sales of month \"))\n",
    "    s = s + k\n",
    "l = s / 12\n",
    "print(l)"
   ]
  },
  {
   "cell_type": "code",
   "execution_count": null,
   "id": "d45f7d7f",
   "metadata": {},
   "outputs": [],
   "source": []
  },
  {
   "cell_type": "code",
   "execution_count": null,
   "id": "5322094b",
   "metadata": {},
   "outputs": [],
   "source": []
  }
 ],
 "metadata": {
  "kernelspec": {
   "display_name": "Python 3",
   "language": "python",
   "name": "python3"
  },
  "language_info": {
   "codemirror_mode": {
    "name": "ipython",
    "version": 3
   },
   "file_extension": ".py",
   "mimetype": "text/x-python",
   "name": "python",
   "nbconvert_exporter": "python",
   "pygments_lexer": "ipython3",
   "version": "3.8.10"
  }
 },
 "nbformat": 4,
 "nbformat_minor": 5
}
